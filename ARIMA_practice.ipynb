{
 "cells": [
  {
   "cell_type": "markdown",
   "id": "3ddba4e7",
   "metadata": {},
   "source": [
    "# Imports"
   ]
  },
  {
   "cell_type": "code",
   "execution_count": 1,
   "id": "a9e797da",
   "metadata": {},
   "outputs": [],
   "source": [
    "import pandas as pd\n",
    "import numpy as np\n",
    "import math\n",
    "import seaborn as sns\n",
    "\n",
    "from datetime import datetime\n",
    "from pandas import read_csv\n",
    "\n",
    "from sklearn.metrics import mean_squared_error\n",
    "from math import sqrt\n",
    "\n",
    "from statsmodels.tsa.arima.model import ARIMA\n",
    "from statsmodels.tsa.holtwinters import ExponentialSmoothing\n",
    "from statsmodels.graphics.tsaplots import plot_acf, plot_pacf\n",
    "from statsmodels.tsa.stattools import adfuller\n",
    "\n",
    "from libraries.time_series_tutorials import evaluate_arima_model_wf, evaluate_arima_model, grid_search_arima, grid_search_arima_wf \n",
    "from libraries.time_series_tutorials import exp_smoothing_forecast, evaluate_es_model, exp_smoothing_configs, evaluate_es_model_wf\n",
    "from libraries.time_series_tutorials import score_model, score_model_wf, grid_search_es, grid_search_es_wf\n",
    "\n",
    "from multiprocessing import cpu_count\n",
    "from joblib import Parallel\n",
    "from joblib import delayed\n",
    "\n",
    "from warnings import catch_warnings\n",
    "from warnings import filterwarnings\n",
    "\n",
    "from numpy import array\n",
    "\n",
    "from matplotlib import pyplot\n",
    "\n",
    "pd.set_option('display.max_columns', None)\n",
    "pd.set_option('display.max_rows', None)\n",
    "\n",
    "import warnings\n",
    "warnings.filterwarnings(\"ignore\")"
   ]
  },
  {
   "cell_type": "code",
   "execution_count": 27,
   "id": "f6ad20e1",
   "metadata": {},
   "outputs": [],
   "source": [
    "df = pd.read_csv('monthly-car-sales.csv')"
   ]
  },
  {
   "cell_type": "code",
   "execution_count": 28,
   "id": "0a00eecb",
   "metadata": {},
   "outputs": [
    {
     "data": {
      "text/html": [
       "<div>\n",
       "<style scoped>\n",
       "    .dataframe tbody tr th:only-of-type {\n",
       "        vertical-align: middle;\n",
       "    }\n",
       "\n",
       "    .dataframe tbody tr th {\n",
       "        vertical-align: top;\n",
       "    }\n",
       "\n",
       "    .dataframe thead th {\n",
       "        text-align: right;\n",
       "    }\n",
       "</style>\n",
       "<table border=\"1\" class=\"dataframe\">\n",
       "  <thead>\n",
       "    <tr style=\"text-align: right;\">\n",
       "      <th></th>\n",
       "      <th>Month</th>\n",
       "      <th>Sales</th>\n",
       "    </tr>\n",
       "  </thead>\n",
       "  <tbody>\n",
       "    <tr>\n",
       "      <th>0</th>\n",
       "      <td>1960-01</td>\n",
       "      <td>6550</td>\n",
       "    </tr>\n",
       "    <tr>\n",
       "      <th>1</th>\n",
       "      <td>1960-02</td>\n",
       "      <td>8728</td>\n",
       "    </tr>\n",
       "    <tr>\n",
       "      <th>2</th>\n",
       "      <td>1960-03</td>\n",
       "      <td>12026</td>\n",
       "    </tr>\n",
       "    <tr>\n",
       "      <th>3</th>\n",
       "      <td>1960-04</td>\n",
       "      <td>14395</td>\n",
       "    </tr>\n",
       "    <tr>\n",
       "      <th>4</th>\n",
       "      <td>1960-05</td>\n",
       "      <td>14587</td>\n",
       "    </tr>\n",
       "  </tbody>\n",
       "</table>\n",
       "</div>"
      ],
      "text/plain": [
       "     Month  Sales\n",
       "0  1960-01   6550\n",
       "1  1960-02   8728\n",
       "2  1960-03  12026\n",
       "3  1960-04  14395\n",
       "4  1960-05  14587"
      ]
     },
     "execution_count": 28,
     "metadata": {},
     "output_type": "execute_result"
    }
   ],
   "source": [
    "df.head()"
   ]
  },
  {
   "cell_type": "code",
   "execution_count": 29,
   "id": "85d3ada6",
   "metadata": {},
   "outputs": [],
   "source": [
    "df['Month'] = pd.to_datetime(df['Month'])"
   ]
  },
  {
   "cell_type": "code",
   "execution_count": 30,
   "id": "91c35626",
   "metadata": {},
   "outputs": [],
   "source": [
    "df = df.set_index('Month')"
   ]
  },
  {
   "cell_type": "code",
   "execution_count": 31,
   "id": "dc26672f",
   "metadata": {},
   "outputs": [],
   "source": [
    "series = df.squeeze()"
   ]
  },
  {
   "cell_type": "code",
   "execution_count": 32,
   "id": "cdd7c78b",
   "metadata": {},
   "outputs": [
    {
     "data": {
      "text/plain": [
       "Month\n",
       "1960-01-01     6550\n",
       "1960-02-01     8728\n",
       "1960-03-01    12026\n",
       "1960-04-01    14395\n",
       "1960-05-01    14587\n",
       "1960-06-01    13791\n",
       "1960-07-01     9498\n",
       "1960-08-01     8251\n",
       "1960-09-01     7049\n",
       "1960-10-01     9545\n",
       "1960-11-01     9364\n",
       "1960-12-01     8456\n",
       "1961-01-01     7237\n",
       "1961-02-01     9374\n",
       "1961-03-01    11837\n",
       "1961-04-01    13784\n",
       "1961-05-01    15926\n",
       "1961-06-01    13821\n",
       "1961-07-01    11143\n",
       "1961-08-01     7975\n",
       "1961-09-01     7610\n",
       "1961-10-01    10015\n",
       "1961-11-01    12759\n",
       "1961-12-01     8816\n",
       "1962-01-01    10677\n",
       "1962-02-01    10947\n",
       "1962-03-01    15200\n",
       "1962-04-01    17010\n",
       "1962-05-01    20900\n",
       "1962-06-01    16205\n",
       "1962-07-01    12143\n",
       "1962-08-01     8997\n",
       "1962-09-01     5568\n",
       "1962-10-01    11474\n",
       "1962-11-01    12256\n",
       "1962-12-01    10583\n",
       "1963-01-01    10862\n",
       "1963-02-01    10965\n",
       "1963-03-01    14405\n",
       "1963-04-01    20379\n",
       "1963-05-01    20128\n",
       "1963-06-01    17816\n",
       "1963-07-01    12268\n",
       "1963-08-01     8642\n",
       "1963-09-01     7962\n",
       "1963-10-01    13932\n",
       "1963-11-01    15936\n",
       "1963-12-01    12628\n",
       "1964-01-01    12267\n",
       "1964-02-01    12470\n",
       "1964-03-01    18944\n",
       "1964-04-01    21259\n",
       "1964-05-01    22015\n",
       "1964-06-01    18581\n",
       "1964-07-01    15175\n",
       "1964-08-01    10306\n",
       "1964-09-01    10792\n",
       "1964-10-01    14752\n",
       "1964-11-01    13754\n",
       "1964-12-01    11738\n",
       "1965-01-01    12181\n",
       "1965-02-01    12965\n",
       "1965-03-01    19990\n",
       "1965-04-01    23125\n",
       "1965-05-01    23541\n",
       "1965-06-01    21247\n",
       "1965-07-01    15189\n",
       "1965-08-01    14767\n",
       "1965-09-01    10895\n",
       "1965-10-01    17130\n",
       "1965-11-01    17697\n",
       "1965-12-01    16611\n",
       "1966-01-01    12674\n",
       "1966-02-01    12760\n",
       "1966-03-01    20249\n",
       "1966-04-01    22135\n",
       "1966-05-01    20677\n",
       "1966-06-01    19933\n",
       "1966-07-01    15388\n",
       "1966-08-01    15113\n",
       "1966-09-01    13401\n",
       "1966-10-01    16135\n",
       "1966-11-01    17562\n",
       "1966-12-01    14720\n",
       "1967-01-01    12225\n",
       "1967-02-01    11608\n",
       "1967-03-01    20985\n",
       "1967-04-01    19692\n",
       "1967-05-01    24081\n",
       "1967-06-01    22114\n",
       "1967-07-01    14220\n",
       "1967-08-01    13434\n",
       "1967-09-01    13598\n",
       "1967-10-01    17187\n",
       "1967-11-01    16119\n",
       "1967-12-01    13713\n",
       "1968-01-01    13210\n",
       "1968-02-01    14251\n",
       "1968-03-01    20139\n",
       "1968-04-01    21725\n",
       "1968-05-01    26099\n",
       "1968-06-01    21084\n",
       "1968-07-01    18024\n",
       "1968-08-01    16722\n",
       "1968-09-01    14385\n",
       "1968-10-01    21342\n",
       "1968-11-01    17180\n",
       "1968-12-01    14577\n",
       "Name: Sales, dtype: int64"
      ]
     },
     "execution_count": 32,
     "metadata": {},
     "output_type": "execute_result"
    }
   ],
   "source": [
    "series"
   ]
  },
  {
   "cell_type": "code",
   "execution_count": 83,
   "id": "1b5886b1",
   "metadata": {},
   "outputs": [
    {
     "data": {
      "image/png": "[encoded data removed]",
      "text/plain": [
       "<Figure size 432x288 with 1 Axes>"
      ]
     },
     "metadata": {
      "needs_background": "light"
     },
     "output_type": "display_data"
    }
   ],
   "source": [
    "series.plot();"
   ]
  },
  {
   "cell_type": "code",
   "execution_count": 35,
   "id": "b3c4e3c7",
   "metadata": {},
   "outputs": [
    {
     "data": {
      "image/png": "[encoded data removed]",
      "text/plain": [
       "<Figure size 432x288 with 1 Axes>"
      ]
     },
     "metadata": {
      "needs_background": "light"
     },
     "output_type": "display_data"
    }
   ],
   "source": [
    "plot_acf(series);"
   ]
  },
  {
   "cell_type": "code",
   "execution_count": 36,
   "id": "57238f48",
   "metadata": {},
   "outputs": [
    {
     "data": {
      "image/png": "[encoded data removed]",
      "text/plain": [
       "<Figure size 432x288 with 1 Axes>"
      ]
     },
     "metadata": {
      "needs_background": "light"
     },
     "output_type": "display_data"
    }
   ],
   "source": [
    "plot_pacf(series);"
   ]
  },
  {
   "cell_type": "code",
   "execution_count": 37,
   "id": "1b534971",
   "metadata": {},
   "outputs": [],
   "source": [
    "model = ARIMA(series, order=(15,1,0))\n",
    "model_fit = model.fit()"
   ]
  },
  {
   "cell_type": "code",
   "execution_count": 38,
   "id": "1947dd01",
   "metadata": {},
   "outputs": [
    {
     "name": "stdout",
     "output_type": "stream",
     "text": [
      "                               SARIMAX Results                                \n",
      "==============================================================================\n",
      "Dep. Variable:                  Sales   No. Observations:                  108\n",
      "Model:                ARIMA(15, 1, 0)   Log Likelihood                -946.308\n",
      "Date:                Mon, 02 May 2022   AIC                           1924.617\n",
      "Time:                        20:46:00   BIC                           1967.382\n",
      "Sample:                    01-01-1960   HQIC                          1941.953\n",
      "                         - 12-01-1968                                         \n",
      "Covariance Type:                  opg                                         \n",
      "==============================================================================\n",
      "                 coef    std err          z      P>|z|      [0.025      0.975]\n",
      "------------------------------------------------------------------------------\n",
      "ar.L1         -0.6101      0.098     -6.220      0.000      -0.802      -0.418\n",
      "ar.L2         -0.3623      0.105     -3.447      0.001      -0.568      -0.156\n",
      "ar.L3         -0.3931      0.113     -3.483      0.000      -0.614      -0.172\n",
      "ar.L4         -0.3710      0.105     -3.524      0.000      -0.577      -0.165\n",
      "ar.L5         -0.1449      0.120     -1.209      0.227      -0.380       0.090\n",
      "ar.L6         -0.2619      0.109     -2.393      0.017      -0.476      -0.047\n",
      "ar.L7         -0.1999      0.103     -1.941      0.052      -0.402       0.002\n",
      "ar.L8         -0.2770      0.113     -2.455      0.014      -0.498      -0.056\n",
      "ar.L9         -0.2430      0.115     -2.108      0.035      -0.469      -0.017\n",
      "ar.L10        -0.3255      0.101     -3.224      0.001      -0.523      -0.128\n",
      "ar.L11        -0.0060      0.102     -0.059      0.953      -0.206       0.194\n",
      "ar.L12         0.5149      0.109      4.734      0.000       0.302       0.728\n",
      "ar.L13         0.3383      0.139      2.440      0.015       0.067       0.610\n",
      "ar.L14         0.1976      0.121      1.631      0.103      -0.040       0.435\n",
      "ar.L15         0.1881      0.108      1.736      0.083      -0.024       0.400\n",
      "sigma2        2.4e+06   4.14e+05      5.803      0.000    1.59e+06    3.21e+06\n",
      "===================================================================================\n",
      "Ljung-Box (L1) (Q):                   0.26   Jarque-Bera (JB):                 1.12\n",
      "Prob(Q):                              0.61   Prob(JB):                         0.57\n",
      "Heteroskedasticity (H):               1.05   Skew:                            -0.02\n",
      "Prob(H) (two-sided):                  0.89   Kurtosis:                         2.50\n",
      "===================================================================================\n",
      "\n",
      "Warnings:\n",
      "[1] Covariance matrix calculated using the outer product of gradients (complex-step).\n",
      "[2] Covariance matrix is singular or near-singular, with condition number 8.87e+14. Standard errors may be unstable.\n"
     ]
    }
   ],
   "source": [
    "print(model_fit.summary())"
   ]
  },
  {
   "cell_type": "code",
   "execution_count": 39,
   "id": "0dc44c5b",
   "metadata": {},
   "outputs": [
    {
     "data": {
      "image/png": "[encoded data removed]",
      "text/plain": [
       "<Figure size 432x288 with 1 Axes>"
      ]
     },
     "metadata": {
      "needs_background": "light"
     },
     "output_type": "display_data"
    }
   ],
   "source": [
    "residuals = pd.DataFrame(model_fit.resid)\n",
    "residuals.plot()\n",
    "pyplot.show()"
   ]
  },
  {
   "cell_type": "code",
   "execution_count": 40,
   "id": "b6a6b788",
   "metadata": {},
   "outputs": [
    {
     "data": {
      "image/png": "[encoded data removed]",
      "text/plain": [
       "<Figure size 432x288 with 1 Axes>"
      ]
     },
     "metadata": {
      "needs_background": "light"
     },
     "output_type": "display_data"
    }
   ],
   "source": [
    "residuals.plot(kind='kde')\n",
    "pyplot.show()"
   ]
  },
  {
   "cell_type": "code",
   "execution_count": 41,
   "id": "d252e39a",
   "metadata": {},
   "outputs": [
    {
     "name": "stdout",
     "output_type": "stream",
     "text": [
      "                 0\n",
      "count   108.000000\n",
      "mean    449.015067\n",
      "std    1786.242673\n",
      "min   -3755.358991\n",
      "25%    -662.782884\n",
      "50%     374.808610\n",
      "75%    1709.250772\n",
      "max    6550.000000\n"
     ]
    }
   ],
   "source": [
    "print(residuals.describe())"
   ]
  },
  {
   "cell_type": "code",
   "execution_count": 45,
   "id": "71b853f5",
   "metadata": {},
   "outputs": [],
   "source": [
    "yearly_sum = series.values\n",
    "\n",
    "# Creating our holdout test set\n",
    "\n",
    "series_train = yearly_sum[:(len(yearly_sum) - 24)]\n",
    "series_test = yearly_sum[(len(yearly_sum) - 24):]"
   ]
  },
  {
   "cell_type": "code",
   "execution_count": 46,
   "id": "5ae56cc1",
   "metadata": {},
   "outputs": [
    {
     "data": {
      "text/plain": [
       "array([ 6550,  8728, 12026, 14395, 14587, 13791,  9498,  8251,  7049,\n",
       "        9545,  9364,  8456,  7237,  9374, 11837, 13784, 15926, 13821,\n",
       "       11143,  7975,  7610, 10015, 12759,  8816, 10677, 10947, 15200,\n",
       "       17010, 20900, 16205, 12143,  8997,  5568, 11474, 12256, 10583,\n",
       "       10862, 10965, 14405, 20379, 20128, 17816, 12268,  8642,  7962,\n",
       "       13932, 15936, 12628, 12267, 12470, 18944, 21259, 22015, 18581,\n",
       "       15175, 10306, 10792, 14752, 13754, 11738, 12181, 12965, 19990,\n",
       "       23125, 23541, 21247, 15189, 14767, 10895, 17130, 17697, 16611,\n",
       "       12674, 12760, 20249, 22135, 20677, 19933, 15388, 15113, 13401,\n",
       "       16135, 17562, 14720])"
      ]
     },
     "execution_count": 46,
     "metadata": {},
     "output_type": "execute_result"
    }
   ],
   "source": [
    "series_train"
   ]
  },
  {
   "cell_type": "code",
   "execution_count": 47,
   "id": "e64a9a1c",
   "metadata": {},
   "outputs": [
    {
     "data": {
      "text/plain": [
       "array([12225, 11608, 20985, 19692, 24081, 22114, 14220, 13434, 13598,\n",
       "       17187, 16119, 13713, 13210, 14251, 20139, 21725, 26099, 21084,\n",
       "       18024, 16722, 14385, 21342, 17180, 14577])"
      ]
     },
     "execution_count": 47,
     "metadata": {},
     "output_type": "execute_result"
    }
   ],
   "source": [
    "series_test"
   ]
  },
  {
   "cell_type": "code",
   "execution_count": 48,
   "id": "f7fe5864",
   "metadata": {},
   "outputs": [],
   "source": [
    "history = [x for x in series_train]\n",
    "predictions = list()"
   ]
  },
  {
   "cell_type": "code",
   "execution_count": 49,
   "id": "f068f65a",
   "metadata": {},
   "outputs": [],
   "source": [
    "for step in range(len(series_test)):\n",
    "    model = ARIMA(history, order=(15,1,0))\n",
    "    model_fit = model.fit()\n",
    "    output = model_fit.forecast()\n",
    "    y_pred = output[0]\n",
    "    predictions.append(y_pred)\n",
    "    history.append(y_pred)"
   ]
  },
  {
   "cell_type": "code",
   "execution_count": 50,
   "id": "10d67620",
   "metadata": {},
   "outputs": [],
   "source": [
    "predictions = np.array(predictions)"
   ]
  },
  {
   "cell_type": "code",
   "execution_count": 51,
   "id": "61f349b8",
   "metadata": {},
   "outputs": [
    {
     "data": {
      "text/plain": [
       "array([13121.59664085, 12987.31673041, 19467.59311976, 21239.61539557,\n",
       "       20650.25518592, 19074.89374788, 15574.61932918, 14649.21948961,\n",
       "       14198.4739939 , 15719.16623162, 17258.2032805 , 14687.17868547,\n",
       "       13112.5076628 , 13896.34580161, 18485.14046286, 21193.71701642,\n",
       "       20298.94491977, 18891.04336657, 15551.9781384 , 14714.30404043,\n",
       "       14559.18876835, 15772.82211466, 16915.24823319, 14750.18038742])"
      ]
     },
     "execution_count": 51,
     "metadata": {},
     "output_type": "execute_result"
    }
   ],
   "source": [
    "predictions"
   ]
  },
  {
   "cell_type": "code",
   "execution_count": 52,
   "id": "069d85ec",
   "metadata": {},
   "outputs": [
    {
     "data": {
      "text/plain": [
       "array([12225, 11608, 20985, 19692, 24081, 22114, 14220, 13434, 13598,\n",
       "       17187, 16119, 13713, 13210, 14251, 20139, 21725, 26099, 21084,\n",
       "       18024, 16722, 14385, 21342, 17180, 14577])"
      ]
     },
     "execution_count": 52,
     "metadata": {},
     "output_type": "execute_result"
    }
   ],
   "source": [
    "series_test"
   ]
  },
  {
   "cell_type": "code",
   "execution_count": 53,
   "id": "4c6ab53d",
   "metadata": {},
   "outputs": [
    {
     "data": {
      "text/plain": [
       "2230.2305409246123"
      ]
     },
     "execution_count": 53,
     "metadata": {},
     "output_type": "execute_result"
    }
   ],
   "source": [
    "math.sqrt(mean_squared_error(series_test, predictions))"
   ]
  },
  {
   "cell_type": "code",
   "execution_count": 54,
   "id": "9f459091",
   "metadata": {},
   "outputs": [
    {
     "data": {
      "image/png": "[encoded data removed]",
      "text/plain": [
       "<Figure size 432x288 with 1 Axes>"
      ]
     },
     "metadata": {
      "needs_background": "light"
     },
     "output_type": "display_data"
    }
   ],
   "source": [
    "\n",
    "pyplot.plot(series_test)\n",
    "pyplot.plot(predictions)\n",
    "pyplot.show()"
   ]
  },
  {
   "cell_type": "code",
   "execution_count": 57,
   "id": "ac573eaf",
   "metadata": {},
   "outputs": [
    {
     "data": {
      "text/plain": [
       "0.0"
      ]
     },
     "execution_count": 57,
     "metadata": {},
     "output_type": "execute_result"
    }
   ],
   "source": [
    "adfuller(residuals)[1].round()"
   ]
  },
  {
   "cell_type": "code",
   "execution_count": 58,
   "id": "e57cc863",
   "metadata": {},
   "outputs": [],
   "source": [
    "arima_order = (15,1,0)"
   ]
  },
  {
   "cell_type": "code",
   "execution_count": 59,
   "id": "d3ec4a11",
   "metadata": {},
   "outputs": [],
   "source": [
    "rmse = evaluate_arima_model(series, 12, arima_order)"
   ]
  },
  {
   "cell_type": "code",
   "execution_count": 60,
   "id": "24ffe3d6",
   "metadata": {},
   "outputs": [
    {
     "data": {
      "text/plain": [
       "2460.8161980542004"
      ]
     },
     "execution_count": 60,
     "metadata": {},
     "output_type": "execute_result"
    }
   ],
   "source": [
    "rmse"
   ]
  },
  {
   "cell_type": "code",
   "execution_count": 61,
   "id": "c92cb580",
   "metadata": {},
   "outputs": [],
   "source": [
    "p_values = [0, 4, 8, 12, 16, 20]\n",
    "d_values = range(0, 3)\n",
    "q_values = range(0, 3)"
   ]
  },
  {
   "cell_type": "code",
   "execution_count": 62,
   "id": "29caf904",
   "metadata": {},
   "outputs": [
    {
     "name": "stdout",
     "output_type": "stream",
     "text": [
      "ARIMA(0, 0, 0) RMSE=5542.648\n",
      "ARIMA(0, 0, 1) RMSE=5541.923\n",
      "ARIMA(0, 0, 2) RMSE=5556.823\n",
      "ARIMA(0, 1, 0) RMSE=5865.374\n",
      "ARIMA(0, 1, 1) RMSE=6198.792\n",
      "ARIMA(0, 1, 2) RMSE=7477.905\n",
      "ARIMA(0, 2, 0) RMSE=22035.574\n",
      "ARIMA(0, 2, 1) RMSE=5256.884\n",
      "ARIMA(0, 2, 2) RMSE=5619.021\n",
      "ARIMA(4, 0, 0) RMSE=5526.650\n",
      "ARIMA(4, 0, 1) RMSE=5492.088\n",
      "ARIMA(4, 0, 2) RMSE=5528.947\n",
      "ARIMA(4, 1, 0) RMSE=5667.528\n",
      "ARIMA(4, 1, 1) RMSE=5688.369\n",
      "ARIMA(4, 1, 2) RMSE=5685.161\n",
      "ARIMA(4, 2, 0) RMSE=10835.836\n",
      "ARIMA(4, 2, 1) RMSE=6690.190\n",
      "ARIMA(4, 2, 2) RMSE=4994.725\n",
      "ARIMA(8, 0, 0) RMSE=5497.201\n",
      "ARIMA(8, 0, 1) RMSE=5687.609\n",
      "ARIMA(8, 0, 2) RMSE=5782.577\n",
      "ARIMA(8, 1, 0) RMSE=3524.490\n",
      "ARIMA(8, 1, 1) RMSE=2286.442\n",
      "ARIMA(8, 1, 2) RMSE=2395.385\n",
      "ARIMA(8, 2, 0) RMSE=14842.192\n",
      "ARIMA(8, 2, 1) RMSE=3198.216\n",
      "ARIMA(8, 2, 2) RMSE=2646.885\n",
      "ARIMA(12, 0, 0) RMSE=2117.721\n",
      "ARIMA(12, 0, 1) RMSE=2064.028\n",
      "ARIMA(12, 0, 2) RMSE=2185.537\n",
      "ARIMA(12, 1, 0) RMSE=2127.178\n",
      "ARIMA(12, 1, 1) RMSE=2217.858\n",
      "ARIMA(12, 1, 2) RMSE=2216.205\n",
      "ARIMA(12, 2, 0) RMSE=3243.788\n",
      "ARIMA(12, 2, 1) RMSE=1811.869\n",
      "ARIMA(12, 2, 2) RMSE=2030.506\n",
      "ARIMA(16, 0, 0) RMSE=2651.120\n",
      "ARIMA(16, 0, 1) RMSE=2501.639\n",
      "ARIMA(16, 0, 2) RMSE=2473.886\n",
      "ARIMA(16, 1, 0) RMSE=2325.476\n",
      "ARIMA(16, 1, 1) RMSE=2286.720\n",
      "ARIMA(16, 1, 2) RMSE=2169.732\n",
      "ARIMA(16, 2, 0) RMSE=2565.710\n",
      "ARIMA(16, 2, 1) RMSE=1604.722\n",
      "ARIMA(16, 2, 2) RMSE=1812.865\n",
      "ARIMA(20, 0, 0) RMSE=2441.093\n",
      "ARIMA(20, 0, 1) RMSE=2420.278\n",
      "ARIMA(20, 0, 2) RMSE=2431.965\n",
      "ARIMA(20, 1, 0) RMSE=2248.220\n",
      "ARIMA(20, 1, 1) RMSE=2233.175\n",
      "ARIMA(20, 1, 2) RMSE=2083.481\n",
      "ARIMA(20, 2, 0) RMSE=2921.791\n",
      "ARIMA(20, 2, 1) RMSE=1661.458\n",
      "ARIMA(20, 2, 2) RMSE=1974.628\n",
      "Best ARIMA(16, 2, 1) RMSE=1604.722\n"
     ]
    }
   ],
   "source": [
    "grid_search_arima(series, 12, p_values, d_values, q_values)"
   ]
  },
  {
   "cell_type": "code",
   "execution_count": 63,
   "id": "063e5a5b",
   "metadata": {},
   "outputs": [
    {
     "name": "stdout",
     "output_type": "stream",
     "text": [
      "ARIMA(0, 0, 0) RMSE=5399.261\n",
      "ARIMA(0, 0, 1) RMSE=4059.811\n",
      "ARIMA(0, 0, 2) RMSE=3642.383\n",
      "ARIMA(0, 1, 0) RMSE=3783.966\n",
      "ARIMA(0, 1, 1) RMSE=3929.179\n",
      "ARIMA(0, 1, 2) RMSE=3915.038\n",
      "ARIMA(0, 2, 0) RMSE=5510.272\n",
      "ARIMA(0, 2, 1) RMSE=3802.108\n",
      "ARIMA(0, 2, 2) RMSE=3961.650\n",
      "ARIMA(4, 0, 0) RMSE=3552.318\n",
      "ARIMA(4, 0, 1) RMSE=3515.756\n",
      "ARIMA(4, 0, 2) RMSE=2902.372\n",
      "ARIMA(4, 1, 0) RMSE=3395.067\n",
      "ARIMA(4, 1, 1) RMSE=3095.091\n",
      "ARIMA(4, 1, 2) RMSE=3093.715\n",
      "ARIMA(4, 2, 0) RMSE=3285.473\n",
      "ARIMA(4, 2, 1) RMSE=3329.092\n",
      "ARIMA(4, 2, 2) RMSE=3152.787\n",
      "ARIMA(8, 0, 0) RMSE=3058.299\n",
      "ARIMA(8, 0, 1) RMSE=3071.920\n",
      "ARIMA(8, 0, 2) RMSE=3133.290\n",
      "ARIMA(8, 1, 0) RMSE=2628.817\n",
      "ARIMA(8, 1, 1) RMSE=2211.794\n",
      "ARIMA(8, 1, 2) RMSE=1983.875\n",
      "ARIMA(8, 2, 0) RMSE=3312.979\n",
      "ARIMA(8, 2, 1) RMSE=2735.584\n",
      "ARIMA(8, 2, 2) RMSE=2285.169\n",
      "ARIMA(12, 0, 0) RMSE=1859.177\n",
      "ARIMA(12, 0, 1) RMSE=1763.262\n",
      "ARIMA(12, 0, 2) RMSE=1903.278\n",
      "ARIMA(12, 1, 0) RMSE=1714.368\n",
      "ARIMA(12, 1, 1) RMSE=1674.334\n",
      "ARIMA(12, 1, 2) RMSE=1683.206\n",
      "ARIMA(12, 2, 0) RMSE=1954.537\n",
      "ARIMA(12, 2, 1) RMSE=1614.841\n",
      "ARIMA(12, 2, 2) RMSE=1643.330\n",
      "ARIMA(16, 0, 0) RMSE=2024.777\n",
      "ARIMA(16, 0, 1) RMSE=1882.206\n",
      "ARIMA(16, 0, 2) RMSE=1866.524\n",
      "ARIMA(16, 1, 0) RMSE=1988.934\n",
      "ARIMA(16, 1, 1) RMSE=1961.795\n",
      "ARIMA(16, 1, 2) RMSE=1839.617\n",
      "ARIMA(16, 2, 0) RMSE=1894.008\n",
      "ARIMA(16, 2, 1) RMSE=1908.181\n",
      "ARIMA(16, 2, 2) RMSE=1768.518\n",
      "ARIMA(20, 0, 0) RMSE=1856.547\n",
      "ARIMA(20, 0, 1) RMSE=1885.057\n",
      "ARIMA(20, 0, 2) RMSE=1915.408\n",
      "ARIMA(20, 1, 0) RMSE=1858.773\n",
      "ARIMA(20, 1, 1) RMSE=1842.811\n",
      "ARIMA(20, 1, 2) RMSE=1815.348\n",
      "ARIMA(20, 2, 0) RMSE=2132.872\n",
      "ARIMA(20, 2, 1) RMSE=1819.391\n",
      "ARIMA(20, 2, 2) RMSE=1878.377\n",
      "Best ARIMA(12, 2, 1) RMSE=1614.841\n"
     ]
    }
   ],
   "source": [
    "grid_search_arima_wf(series, 12, p_values, d_values, q_values)"
   ]
  },
  {
   "cell_type": "code",
   "execution_count": 64,
   "id": "d78c4d88",
   "metadata": {},
   "outputs": [],
   "source": [
    "history = [x for x in series_train]\n",
    "predictions = list()"
   ]
  },
  {
   "cell_type": "code",
   "execution_count": 65,
   "id": "71211514",
   "metadata": {},
   "outputs": [],
   "source": [
    "for step in range(len(series_test)):\n",
    "    model = ARIMA(history, order=(16,2,1))\n",
    "    model_fit = model.fit()\n",
    "    output = model_fit.forecast()\n",
    "    y_pred = output[0]\n",
    "    predictions.append(y_pred)\n",
    "    history.append(y_pred)"
   ]
  },
  {
   "cell_type": "code",
   "execution_count": 66,
   "id": "6d32d5de",
   "metadata": {},
   "outputs": [],
   "source": [
    "predictions = np.array(predictions)"
   ]
  },
  {
   "cell_type": "code",
   "execution_count": 67,
   "id": "1bda5c73",
   "metadata": {},
   "outputs": [
    {
     "data": {
      "text/plain": [
       "array([13894.54579007, 12982.34185536, 19992.83396922, 22037.80286097,\n",
       "       22308.7698906 , 20334.22611125, 16034.11227591, 15639.36868273,\n",
       "       15327.37069068, 16807.15972634, 17954.34802912, 15278.35226327,\n",
       "       14381.37302936, 14510.0112977 , 19292.71308959, 22846.75549812,\n",
       "       22447.98821899, 21033.1480064 , 16309.33163267, 16404.39313545,\n",
       "       16404.81570868, 17745.38020415, 18452.84392617, 15861.1142489 ])"
      ]
     },
     "execution_count": 67,
     "metadata": {},
     "output_type": "execute_result"
    }
   ],
   "source": [
    "predictions"
   ]
  },
  {
   "cell_type": "code",
   "execution_count": 68,
   "id": "8cc4bc6e",
   "metadata": {},
   "outputs": [
    {
     "data": {
      "text/plain": [
       "1763.6591658633984"
      ]
     },
     "execution_count": 68,
     "metadata": {},
     "output_type": "execute_result"
    }
   ],
   "source": [
    "math.sqrt(mean_squared_error(series_test, predictions))"
   ]
  },
  {
   "cell_type": "code",
   "execution_count": 69,
   "id": "c1dfce94",
   "metadata": {},
   "outputs": [
    {
     "data": {
      "image/png": "[encoded data removed]",
      "text/plain": [
       "<Figure size 432x288 with 1 Axes>"
      ]
     },
     "metadata": {
      "needs_background": "light"
     },
     "output_type": "display_data"
    }
   ],
   "source": [
    "pyplot.plot(series_test)\n",
    "pyplot.plot(predictions)\n",
    "pyplot.show()"
   ]
  },
  {
   "cell_type": "code",
   "execution_count": 70,
   "id": "11a29233",
   "metadata": {},
   "outputs": [
    {
     "data": {
      "image/png": "[encoded data removed]",
      "text/plain": [
       "<Figure size 432x288 with 1 Axes>"
      ]
     },
     "metadata": {
      "needs_background": "light"
     },
     "output_type": "display_data"
    }
   ],
   "source": [
    "pyplot.plot(yearly_sum)\n",
    "pyplot.plot(history)\n",
    "pyplot.show()"
   ]
  },
  {
   "cell_type": "code",
   "execution_count": 72,
   "id": "24903c4d",
   "metadata": {},
   "outputs": [],
   "source": [
    "history = [x for x in series_train]\n",
    "predictions = list()"
   ]
  },
  {
   "cell_type": "code",
   "execution_count": 73,
   "id": "0f21b5ce",
   "metadata": {},
   "outputs": [],
   "source": [
    "for step in range(len(series_test)):\n",
    "    model = ExponentialSmoothing(history, trend='mul')\n",
    "    model_fit = model.fit(optimized=True)\n",
    "    output = model_fit.forecast()\n",
    "    y_pred = output[0]\n",
    "    predictions.append(y_pred)\n",
    "    history.append(y_pred)"
   ]
  },
  {
   "cell_type": "code",
   "execution_count": 74,
   "id": "b66b5220",
   "metadata": {},
   "outputs": [],
   "source": [
    "predictions = np.array(predictions)"
   ]
  },
  {
   "cell_type": "code",
   "execution_count": 75,
   "id": "b90d41a1",
   "metadata": {},
   "outputs": [
    {
     "data": {
      "text/plain": [
       "4206.782838634758"
      ]
     },
     "execution_count": 75,
     "metadata": {},
     "output_type": "execute_result"
    }
   ],
   "source": [
    "math.sqrt(mean_squared_error(series_test, predictions))"
   ]
  },
  {
   "cell_type": "code",
   "execution_count": 93,
   "id": "85eb8473",
   "metadata": {},
   "outputs": [],
   "source": [
    "history = [x for x in series_train]\n",
    "predictions = list()"
   ]
  },
  {
   "cell_type": "code",
   "execution_count": 94,
   "id": "e794afd7",
   "metadata": {},
   "outputs": [],
   "source": [
    "first_pred = series_train[(len(series_train) - 1)]\n",
    "predictions.append(first_pred)\n",
    "\n",
    "for step in range(len(series_test) - 1):\n",
    "    y_pred = series_test[step]\n",
    "    predictions.append(y_pred)"
   ]
  },
  {
   "cell_type": "code",
   "execution_count": 95,
   "id": "12d2ee0a",
   "metadata": {},
   "outputs": [],
   "source": [
    "predictions = np.array(predictions)"
   ]
  },
  {
   "cell_type": "code",
   "execution_count": 96,
   "id": "90dd997b",
   "metadata": {},
   "outputs": [
    {
     "data": {
      "text/plain": [
       "3947.1995188572196"
      ]
     },
     "execution_count": 96,
     "metadata": {},
     "output_type": "execute_result"
    }
   ],
   "source": [
    "math.sqrt(mean_squared_error(series_test, predictions))"
   ]
  },
  {
   "cell_type": "code",
   "execution_count": null,
   "id": "52c270f9",
   "metadata": {},
   "outputs": [],
   "source": []
  }
 ],
 "metadata": {
  "kernelspec": {
   "display_name": "Python 3 (ipykernel)",
   "language": "python",
   "name": "python3"
  },
  "language_info": {
   "codemirror_mode": {
    "name": "ipython",
    "version": 3
   },
   "file_extension": ".py",
   "mimetype": "text/x-python",
   "name": "python",
   "nbconvert_exporter": "python",
   "pygments_lexer": "ipython3",
   "version": "3.8.8"
  }
 },
 "nbformat": 4,
 "nbformat_minor": 5
}
